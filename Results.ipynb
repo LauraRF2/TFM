{
 "cells": [
  {
   "cell_type": "code",
   "execution_count": 1,
   "id": "48b428ea",
   "metadata": {},
   "outputs": [],
   "source": [
    "import pandas as pd\n",
    "import numpy as np\n",
    "\n",
    "# Training\n",
    "knn_t = pd.read_csv(\"Results/train_knn_results.csv\", sep=\";\")\n",
    "nb_t = pd.read_csv(\"Results/train_nb_results.csv\",sep=\";\")\n",
    "lr_t = pd.read_csv(\"Results/train_lr_results.csv\", sep=\";\")\n",
    "svm_l_t = pd.read_csv(\"Results/train_svm_l_results.csv\", sep=\";\")\n",
    "svm_r_t = pd.read_csv(\"Results/train_svm_r_results.csv\",sep=\";\")\n",
    "rf_t = pd.read_csv(\"Results/train_rf_results.csv\",sep=\";\")\n",
    "nn_t = pd.read_csv(\"Results/train_nn_results.csv\",sep=\";\")\n",
    "\n",
    "# Test\n",
    "knn = pd.read_csv(\"Results/knn_results.csv\", sep=\";\")\n",
    "nb = pd.read_csv(\"Results/nb_results.csv\",sep=\";\")\n",
    "lr = pd.read_csv(\"Results/lr_results.csv\", sep=\";\")\n",
    "svm_l = pd.read_csv(\"Results/svm_l_results.csv\", sep=\";\")\n",
    "svm_r = pd.read_csv(\"Results/svm_r_results.csv\",sep=\";\")\n",
    "rf = pd.read_csv(\"Results/rf_results.csv\",sep=\";\")\n",
    "nn = pd.read_csv(\"Results/nn_results.csv\",sep=\";\")"
   ]
  },
  {
   "cell_type": "code",
   "execution_count": 12,
   "id": "99750dbd",
   "metadata": {},
   "outputs": [
    {
     "name": "stdout",
     "output_type": "stream",
     "text": [
      "    Feature_Type  accuracy        F1       AUC       MCC     Kappa  \\\n",
      "0  mRMR_Features  0.935623  0.933259  0.980890  0.826404  0.818786   \n",
      "1   RFE_Features  0.969851  0.969333  0.998490  0.919868  0.917838   \n",
      "2    GA_Features  0.935196  0.932329  0.976235  0.826193  0.815471   \n",
      "3   PCA_Features  0.920129  0.917204  0.972972  0.782385  0.775203   \n",
      "4   MFA_Features  0.841080  0.824372  0.912018  0.542768  0.510022   \n",
      "5  tSNE_Features  0.984253  0.984204  0.996114  0.958264  0.958188   \n",
      "\n",
      "   Sensitibity  Specificity  Precision       PPV       NPV  \\\n",
      "0     0.989107     0.778511   0.929169  0.929169  0.960522   \n",
      "1     0.996122     0.892679   0.964621  0.964621  0.987399   \n",
      "2     0.994363     0.761392   0.924480  0.924480  0.978715   \n",
      "3     0.978660     0.748195   0.919464  0.919464  0.922693   \n",
      "4     0.967852     0.468688   0.842545  0.842545  0.832302   \n",
      "5     0.992625     0.959661   0.986354  0.986354  0.977924   \n",
      "\n",
      "            Best_Param  \n",
      "0   {'n_neighbors': 5}  \n",
      "1   {'n_neighbors': 1}  \n",
      "2  {'n_neighbors': 15}  \n",
      "3  {'n_neighbors': 11}  \n",
      "4  {'n_neighbors': 15}  \n",
      "5  {'n_neighbors': 11}  \n",
      "    Feature_Type  accuracy        F1       AUC       MCC     Kappa  \\\n",
      "0  mRMR_Features  0.857143  0.847523  0.881566  0.596170  0.579689   \n",
      "1   RFE_Features  0.825397  0.812103  0.814412  0.497400  0.480315   \n",
      "2    GA_Features  0.813492  0.786338  0.832447  0.446659  0.399513   \n",
      "3   PCA_Features  0.817460  0.806695  0.808511  0.479500  0.469036   \n",
      "4   MFA_Features  0.793651  0.771913  0.780585  0.387069  0.363636   \n",
      "5  tSNE_Features  0.750000  0.743468  0.753865  0.309691  0.308175   \n",
      "\n",
      "   Sensitibity  Specificity  Precision       PPV       NPV  \\\n",
      "0     0.957447     0.562500   0.865385  0.865385  0.818182   \n",
      "1     0.941489     0.484375   0.842857  0.842857  0.738095   \n",
      "2     0.968085     0.359375   0.816143  0.816143  0.793103   \n",
      "3     0.925532     0.500000   0.844660  0.844660  0.695652   \n",
      "4     0.936170     0.375000   0.814815  0.814815  0.666667   \n",
      "5     0.856383     0.437500   0.817259  0.817259  0.509091   \n",
      "\n",
      "            Best_Param  \n",
      "0   {'n_neighbors': 5}  \n",
      "1   {'n_neighbors': 1}  \n",
      "2  {'n_neighbors': 15}  \n",
      "3  {'n_neighbors': 11}  \n",
      "4  {'n_neighbors': 15}  \n",
      "5  {'n_neighbors': 11}  \n"
     ]
    }
   ],
   "source": [
    "print(knn_t)\n",
    "print(knn)"
   ]
  },
  {
   "cell_type": "code",
   "execution_count": 13,
   "id": "955f416a",
   "metadata": {},
   "outputs": [
    {
     "name": "stdout",
     "output_type": "stream",
     "text": [
      "    Feature_Type  accuracy        F1       AUC       MCC     Kappa  \\\n",
      "0  mRMR_Features  0.849285  0.847673  0.887291  0.594555  0.594027   \n",
      "1   RFE_Features  0.789192  0.799817  0.893508  0.534459  0.515657   \n",
      "2    GA_Features  0.806536  0.778889  0.818735  0.421935  0.378797   \n",
      "3   PCA_Features  0.831436  0.820570  0.833324  0.519259  0.505977   \n",
      "4   MFA_Features  0.781683  0.760766  0.825727  0.352279  0.334188   \n",
      "5  tSNE_Features  0.771644  0.754723  0.774283  0.333019  0.322114   \n",
      "\n",
      "   Sensitibity  Specificity  Precision       PPV       NPV Best_Param  \n",
      "0     0.909469     0.672498   0.890799  0.890799  0.716617          -  \n",
      "1     0.782021     0.810259   0.923705  0.923705  0.558579          -  \n",
      "2     0.962279     0.349041   0.812817  0.812817  0.759036          -  \n",
      "3     0.938417     0.517181   0.850955  0.850955  0.740860          -  \n",
      "4     0.923201     0.365974   0.810508  0.810508  0.618647          -  \n",
      "5     0.904255     0.382097   0.811278  0.811278  0.576014          -  \n",
      "    Feature_Type  accuracy        F1       AUC       MCC     Kappa  \\\n",
      "0  mRMR_Features  0.837302  0.835993  0.878241  0.564191  0.563903   \n",
      "1   RFE_Features  0.765873  0.776077  0.865525  0.458368  0.447615   \n",
      "2    GA_Features  0.797619  0.770633  0.789520  0.392107  0.356499   \n",
      "3   PCA_Features  0.805556  0.794871  0.760555  0.446178  0.437602   \n",
      "4   MFA_Features  0.769841  0.747950  0.793301  0.314610  0.298656   \n",
      "5  tSNE_Features  0.765873  0.746979  0.751330  0.310907  0.299076   \n",
      "\n",
      "   Sensitibity  Specificity  Precision       PPV       NPV Best_Param  \n",
      "0     0.898936     0.656250   0.884817  0.884817  0.688525          -  \n",
      "1     0.781915     0.718750   0.890909  0.890909  0.528736          -  \n",
      "2     0.952128     0.343750   0.809955  0.809955  0.709677          -  \n",
      "3     0.914894     0.484375   0.839024  0.839024  0.659574          -  \n",
      "4     0.914894     0.343750   0.803738  0.803738  0.578947          -  \n",
      "5     0.904255     0.359375   0.805687  0.805687  0.560976          -  \n"
     ]
    }
   ],
   "source": [
    "print(nb_t)\n",
    "print(nb)"
   ]
  },
  {
   "cell_type": "code",
   "execution_count": 14,
   "id": "263fbc8b",
   "metadata": {},
   "outputs": [
    {
     "name": "stdout",
     "output_type": "stream",
     "text": [
      "    Feature_Type  accuracy        F1       AUC       MCC     Kappa  \\\n",
      "0  mRMR_Features  0.885316  0.878073  0.912443  0.681285  0.664483   \n",
      "1   RFE_Features  0.897189  0.891040  0.930539  0.716637  0.700602   \n",
      "2    GA_Features  0.848005  0.833488  0.879746  0.565502  0.536618   \n",
      "3   PCA_Features  0.877142  0.870341  0.879820  0.657250  0.644447   \n",
      "4   MFA_Features  0.792465  0.776376  0.819221  0.395208  0.381194   \n",
      "5  tSNE_Features  0.772845  0.739551  0.756676  0.299956  0.267930   \n",
      "\n",
      "   Sensitibity  Specificity  Precision       PPV       NPV Best_Param  \n",
      "0     0.973701     0.625685   0.884276  0.884276  0.890099          -  \n",
      "1     0.979508     0.655378   0.893039  0.893039  0.915876          -  \n",
      "2     0.967492     0.497012   0.849630  0.849630  0.838832          -  \n",
      "3     0.963147     0.624502   0.882831  0.882831  0.852264          -  \n",
      "4     0.920234     0.417144   0.822627  0.822627  0.640325          -  \n",
      "5     0.941256     0.278137   0.792973  0.792973  0.617127          -  \n",
      "    Feature_Type  accuracy        F1       AUC       MCC     Kappa  \\\n",
      "0  mRMR_Features  0.876984  0.868166  0.884392  0.656240  0.635974   \n",
      "1   RFE_Features  0.876984  0.868166  0.906998  0.656240  0.635974   \n",
      "2    GA_Features  0.825397  0.807003  0.834026  0.491280  0.461538   \n",
      "3   PCA_Features  0.841270  0.833171  0.825299  0.552773  0.543478   \n",
      "4   MFA_Features  0.789683  0.772710  0.787733  0.385008  0.370356   \n",
      "5  tSNE_Features  0.761905  0.725723  0.736868  0.257855  0.228571   \n",
      "\n",
      "   Sensitibity  Specificity  Precision       PPV       NPV Best_Param  \n",
      "0     0.973404      0.59375   0.875598  0.875598  0.883721          -  \n",
      "1     0.973404      0.59375   0.875598  0.875598  0.883721          -  \n",
      "2     0.957447      0.43750   0.833333  0.833333  0.777778          -  \n",
      "3     0.936170      0.56250   0.862745  0.862745  0.750000          -  \n",
      "4     0.920213      0.40625   0.819905  0.819905  0.634146          -  \n",
      "5     0.936170      0.25000   0.785714  0.785714  0.571429          -  \n"
     ]
    }
   ],
   "source": [
    "print(lr_t)\n",
    "print(lr)"
   ]
  },
  {
   "cell_type": "code",
   "execution_count": 15,
   "id": "345aa8be",
   "metadata": {},
   "outputs": [
    {
     "name": "stdout",
     "output_type": "stream",
     "text": [
      "    Feature_Type  accuracy        F1       AUC       MCC     Kappa  \\\n",
      "0  mRMR_Features  0.849238  0.854972  0.931814  0.648393  0.637644   \n",
      "1   RFE_Features  0.909062  0.910916  0.949028  0.773620  0.770542   \n",
      "2    GA_Features  0.795216  0.806089  0.886911  0.558252  0.535204   \n",
      "3   PCA_Features  0.826377  0.831931  0.884920  0.581430  0.575070   \n",
      "4   MFA_Features  0.720625  0.737604  0.816768  0.423405  0.394495   \n",
      "5  tSNE_Features  0.677291  0.696715  0.755941  0.318147  0.297362   \n",
      "\n",
      "   Sensitibity  Specificity  Precision       PPV       NPV  \\\n",
      "0     0.848394     0.851718   0.943842  0.943842  0.656652   \n",
      "1     0.915381     0.890500   0.960871  0.960871  0.781779   \n",
      "2     0.778779     0.843501   0.935970  0.935970  0.564842   \n",
      "3     0.843244     0.776830   0.917351  0.917351  0.627843   \n",
      "4     0.700454     0.779880   0.903359  0.903359  0.469865   \n",
      "5     0.674282     0.686130   0.863212  0.863212  0.417627   \n",
      "\n",
      "                     Best_Param  \n",
      "0  {'C': 100, 'gamma': 'scale'}  \n",
      "1   {'C': 10, 'gamma': 'scale'}  \n",
      "2    {'C': 1, 'gamma': 'scale'}  \n",
      "3  {'C': 0.1, 'gamma': 'scale'}  \n",
      "4  {'C': 0.5, 'gamma': 'scale'}  \n",
      "5  {'C': 100, 'gamma': 'scale'}  \n",
      "    Feature_Type  accuracy        F1       AUC       MCC     Kappa  \\\n",
      "0  mRMR_Features  0.801587  0.808201  0.883685  0.522576  0.516278   \n",
      "1   RFE_Features  0.880952  0.882652  0.920296  0.696555  0.695260   \n",
      "2    GA_Features  0.750000  0.764011  0.833777  0.464002  0.441065   \n",
      "3   PCA_Features  0.789683  0.797678  0.823928  0.502800  0.494474   \n",
      "4   MFA_Features  0.710317  0.727730  0.791847  0.394491  0.368876   \n",
      "5  tSNE_Features  0.662698  0.683330  0.734541  0.291884  0.271329   \n",
      "\n",
      "   Sensitibity  Specificity  Precision       PPV       NPV  \\\n",
      "0     0.824468     0.734375   0.901163  0.901163  0.587500   \n",
      "1     0.904255     0.812500   0.934066  0.934066  0.742857   \n",
      "2     0.739362     0.781250   0.908497  0.908497  0.505051   \n",
      "3     0.808511     0.734375   0.899408  0.899408  0.566265   \n",
      "4     0.696809     0.750000   0.891156  0.891156  0.457143   \n",
      "5     0.659574     0.671875   0.855172  0.855172  0.401869   \n",
      "\n",
      "                     Best_Param  \n",
      "0  {'C': 100, 'gamma': 'scale'}  \n",
      "1   {'C': 10, 'gamma': 'scale'}  \n",
      "2    {'C': 1, 'gamma': 'scale'}  \n",
      "3  {'C': 0.1, 'gamma': 'scale'}  \n",
      "4  {'C': 0.5, 'gamma': 'scale'}  \n",
      "5  {'C': 100, 'gamma': 'scale'}  \n"
     ]
    }
   ],
   "source": [
    "print(svm_l_t)\n",
    "print(svm_l)"
   ]
  },
  {
   "cell_type": "code",
   "execution_count": 16,
   "id": "fdd1435f",
   "metadata": {},
   "outputs": [
    {
     "name": "stdout",
     "output_type": "stream",
     "text": [
      "    Feature_Type  accuracy        F1       AUC       MCC     Kappa  \\\n",
      "0  mRMR_Features  0.928366  0.930196  0.986290  0.826999  0.821586   \n",
      "1   RFE_Features  0.919007  0.920980  0.957246  0.802379  0.797656   \n",
      "2    GA_Features  0.787295  0.799166  0.897463  0.550672  0.523843   \n",
      "3   PCA_Features  0.991763  0.991806  0.999993  0.978720  0.978493   \n",
      "4   MFA_Features  0.769873  0.781443  0.857310  0.488028  0.470985   \n",
      "5  tSNE_Features  0.754569  0.765931  0.815150  0.438792  0.426680   \n",
      "\n",
      "   Sensitibity  Specificity  Precision       PPV       NPV  \\\n",
      "0     0.921251     0.949265   0.981597  0.981597  0.804060   \n",
      "1     0.916653     0.925921   0.973225  0.973225  0.790876   \n",
      "2     0.765131     0.852403   0.938377  0.938377  0.552672   \n",
      "3     0.988959     1.000000   1.000000  1.000000  0.968586   \n",
      "4     0.769391     0.771290   0.908104  0.908104  0.532399   \n",
      "5     0.768564     0.713459   0.887375  0.887375  0.512063   \n",
      "\n",
      "                     Best_Param  \n",
      "0   {'C': 10, 'gamma': 'scale'}  \n",
      "1    {'C': 1, 'gamma': 'scale'}  \n",
      "2    {'C': 10, 'gamma': 'auto'}  \n",
      "3   {'C': 10, 'gamma': 'scale'}  \n",
      "4  {'C': 0.1, 'gamma': 'scale'}  \n",
      "5  {'C': 0.1, 'gamma': 'scale'}  \n",
      "    Feature_Type  accuracy        F1       AUC       MCC     Kappa  \\\n",
      "0  mRMR_Features  0.853175  0.856197  0.889711  0.632276  0.629706   \n",
      "1   RFE_Features  0.876984  0.879516  0.913730  0.692569  0.689754   \n",
      "2    GA_Features  0.726190  0.741535  0.818733  0.408001  0.387833   \n",
      "3   PCA_Features  0.805556  0.801708  0.819814  0.469025  0.467667   \n",
      "4   MFA_Features  0.690476  0.706443  0.755319  0.304013  0.292542   \n",
      "5  tSNE_Features  0.710317  0.722942  0.722033  0.324145  0.316540   \n",
      "\n",
      "   Sensitibity  Specificity  Precision       PPV       NPV  \\\n",
      "0     0.877660     0.781250   0.921788  0.921788  0.684932   \n",
      "1     0.893617     0.828125   0.938547  0.938547  0.726027   \n",
      "2     0.723404     0.734375   0.888889  0.888889  0.474747   \n",
      "3     0.888298     0.562500   0.856410  0.856410  0.631579   \n",
      "4     0.712766     0.625000   0.848101  0.848101  0.425532   \n",
      "5     0.744681     0.609375   0.848485  0.848485  0.448276   \n",
      "\n",
      "                     Best_Param  \n",
      "0   {'C': 10, 'gamma': 'scale'}  \n",
      "1    {'C': 1, 'gamma': 'scale'}  \n",
      "2    {'C': 10, 'gamma': 'auto'}  \n",
      "3   {'C': 10, 'gamma': 'scale'}  \n",
      "4  {'C': 0.1, 'gamma': 'scale'}  \n",
      "5  {'C': 0.1, 'gamma': 'scale'}  \n"
     ]
    }
   ],
   "source": [
    "print(svm_r_t)\n",
    "print(svm_r)"
   ]
  },
  {
   "cell_type": "code",
   "execution_count": 17,
   "id": "41590f0f",
   "metadata": {},
   "outputs": [
    {
     "name": "stdout",
     "output_type": "stream",
     "text": [
      "    Feature_Type  accuracy        F1       AUC       MCC     Kappa  \\\n",
      "0  mRMR_Features  0.993265  0.993275  0.998029  0.982295  0.982278   \n",
      "1   RFE_Features  0.963764  0.964299  0.993362  0.909160  0.907346   \n",
      "2    GA_Features  0.986688  0.986740  0.998278  0.965273  0.965148   \n",
      "3   PCA_Features  0.974056  0.974049  0.994894  0.931501  0.931500   \n",
      "4   MFA_Features  0.971511  0.971697  0.994270  0.926165  0.925823   \n",
      "5  tSNE_Features  0.970815  0.971315  0.997607  0.928329  0.925786   \n",
      "\n",
      "   Sensitibity  Specificity  Precision       PPV       NPV  \\\n",
      "0     0.993982     0.991160   0.996982  0.996982  0.982476   \n",
      "1     0.959163     0.977278   0.992000  0.992000  0.890673   \n",
      "2     0.986967     0.985869   0.995150  0.995150  0.962619   \n",
      "3     0.982877     0.948145   0.982357  0.982357  0.949623   \n",
      "4     0.973913     0.964455   0.987728  0.987728  0.926393   \n",
      "5     0.960943     0.999813   0.999934  0.999934  0.897062   \n",
      "\n",
      "                                          Best_Param  \n",
      "0  {'max_depth': 10, 'min_samples_split': 5, 'n_e...  \n",
      "1  {'max_depth': 5, 'min_samples_split': 10, 'n_e...  \n",
      "2  {'max_depth': 5, 'min_samples_split': 10, 'n_e...  \n",
      "3  {'max_depth': 10, 'min_samples_split': 10, 'n_...  \n",
      "4  {'max_depth': 10, 'min_samples_split': 5, 'n_e...  \n",
      "5  {'max_depth': 10, 'min_samples_split': 10, 'n_...  \n",
      "    Feature_Type  accuracy        F1       AUC       MCC     Kappa  \\\n",
      "0  mRMR_Features  0.845238  0.834144  0.869432  0.559304  0.542032   \n",
      "1   RFE_Features  0.821429  0.819992  0.875582  0.521623  0.521357   \n",
      "2    GA_Features  0.825397  0.815100  0.835688  0.503100  0.492122   \n",
      "3   PCA_Features  0.841270  0.830581  0.807015  0.548141  0.532987   \n",
      "4   MFA_Features  0.753968  0.746730  0.769781  0.317398  0.315457   \n",
      "5  tSNE_Features  0.785714  0.784580  0.815160  0.428715  0.428619   \n",
      "\n",
      "   Sensitibity  Specificity  Precision       PPV       NPV  \\\n",
      "0     0.952128     0.531250   0.856459  0.856459  0.790698   \n",
      "1     0.888298     0.625000   0.874346  0.874346  0.655738   \n",
      "2     0.930851     0.515625   0.849515  0.849515  0.717391   \n",
      "3     0.946809     0.531250   0.855769  0.855769  0.772727   \n",
      "4     0.861702     0.437500   0.818182  0.818182  0.518519   \n",
      "5     0.861702     0.562500   0.852632  0.852632  0.580645   \n",
      "\n",
      "                                          Best_Param  \n",
      "0  {'max_depth': 10, 'min_samples_split': 5, 'n_e...  \n",
      "1  {'max_depth': 5, 'min_samples_split': 10, 'n_e...  \n",
      "2  {'max_depth': 5, 'min_samples_split': 10, 'n_e...  \n",
      "3  {'max_depth': 10, 'min_samples_split': 10, 'n_...  \n",
      "4  {'max_depth': 10, 'min_samples_split': 5, 'n_e...  \n",
      "5  {'max_depth': 10, 'min_samples_split': 10, 'n_...  \n"
     ]
    }
   ],
   "source": [
    "print(rf_t)\n",
    "print(rf)"
   ]
  },
  {
   "cell_type": "code",
   "execution_count": 2,
   "id": "78b028cd",
   "metadata": {},
   "outputs": [
    {
     "name": "stdout",
     "output_type": "stream",
     "text": [
      "    Feature_Type  accuracy        F1       AUC       MCC     Kappa  \\\n",
      "0  mRMR_Features  0.893739  0.887424  0.930307  0.706344  0.690717   \n",
      "1   RFE_Features  0.929453  0.928225  0.964450  0.809499  0.807663   \n",
      "2    GA_Features  0.870370  0.864949  0.890795  0.639717  0.632223   \n",
      "3   PCA_Features  0.892857  0.886779  0.925199  0.703648  0.689328   \n",
      "4   MFA_Features  0.845679  0.836297  0.883391  0.562954  0.549982   \n",
      "5  tSNE_Features  0.800705  0.782407  0.835527  0.414891  0.395106   \n",
      "\n",
      "   Sensitibity  Specificity  Precision       PPV       NPV  \\\n",
      "0     0.976950     0.649306   0.891105  0.891105  0.905569   \n",
      "1     0.969267     0.812500   0.938215  0.938215  0.900000   \n",
      "2     0.949173     0.638889   0.885336  0.885336  0.810573   \n",
      "3     0.974586     0.652778   0.891833  0.891833  0.897375   \n",
      "4     0.945626     0.552083   0.861141  0.861141  0.775610   \n",
      "5     0.933806     0.409722   0.822917  0.822917  0.678161   \n",
      "\n",
      "                                          Best_Param  \n",
      "0  {'epochs': 100, 'model__neurons': 128, 'optimi...  \n",
      "1  {'epochs': 100, 'model__neurons': 128, 'optimi...  \n",
      "2  {'epochs': 75, 'model__neurons': 64, 'optimize...  \n",
      "3  {'epochs': 25, 'model__neurons': 16, 'optimize...  \n",
      "4  {'epochs': 100, 'model__neurons': 64, 'optimiz...  \n",
      "5  {'epochs': 50, 'model__neurons': 8, 'optimizer...  \n",
      "    Feature_Type  accuracy        F1       AUC       MCC     Kappa  \\\n",
      "0  mRMR_Features  0.873016  0.866537  0.886636  0.645639  0.634783   \n",
      "1   RFE_Features  0.884921  0.881914  0.914894  0.684894  0.681541   \n",
      "2    GA_Features  0.837302  0.830824  0.817736  0.545658  0.539818   \n",
      "3   PCA_Features  0.849206  0.839052  0.807763  0.572155  0.556338   \n",
      "4   MFA_Features  0.777778  0.766440  0.784990  0.367041  0.360870   \n",
      "5  tSNE_Features  0.773810  0.755556  0.789561  0.335608  0.322836   \n",
      "\n",
      "   Sensitibity  Specificity  Precision       PPV       NPV  \\\n",
      "0     0.957447     0.625000   0.882353  0.882353  0.833333   \n",
      "1     0.946809     0.703125   0.903553  0.903553  0.818182   \n",
      "2     0.925532     0.578125   0.865672  0.865672  0.725490   \n",
      "3     0.952128     0.546875   0.860577  0.860577  0.795455   \n",
      "4     0.893617     0.437500   0.823529  0.823529  0.583333   \n",
      "5     0.909574     0.375000   0.810427  0.810427  0.585366   \n",
      "\n",
      "                                          Best_Param  \n",
      "0  {'epochs': 100, 'model__neurons': 128, 'optimi...  \n",
      "1  {'epochs': 100, 'model__neurons': 128, 'optimi...  \n",
      "2  {'epochs': 75, 'model__neurons': 64, 'optimize...  \n",
      "3  {'epochs': 25, 'model__neurons': 16, 'optimize...  \n",
      "4  {'epochs': 100, 'model__neurons': 64, 'optimiz...  \n",
      "5  {'epochs': 50, 'model__neurons': 8, 'optimizer...  \n"
     ]
    }
   ],
   "source": [
    "print(nn_t)\n",
    "print(nn)"
   ]
  },
  {
   "cell_type": "code",
   "execution_count": 9,
   "id": "45e0677c",
   "metadata": {},
   "outputs": [
    {
     "name": "stdout",
     "output_type": "stream",
     "text": [
      "|    | Feature_Type   |   accuracy |       F1 |      AUC |      MCC |    Kappa |   Sensitibity |   Specificity |   Precision |      PPV |      NPV | Best_Param          |\n",
      "|---:|:---------------|-----------:|---------:|---------:|---------:|---------:|--------------:|--------------:|------------:|---------:|---------:|:--------------------|\n",
      "|  0 | mRMR_Features  |   0.857143 | 0.847523 | 0.881566 | 0.59617  | 0.579689 |      0.957447 |      0.5625   |    0.865385 | 0.865385 | 0.818182 | {'n_neighbors': 5}  |\n",
      "|  1 | RFE_Features   |   0.825397 | 0.812103 | 0.814412 | 0.4974   | 0.480315 |      0.941489 |      0.484375 |    0.842857 | 0.842857 | 0.738095 | {'n_neighbors': 1}  |\n",
      "|  2 | GA_Features    |   0.813492 | 0.786338 | 0.832447 | 0.446659 | 0.399513 |      0.968085 |      0.359375 |    0.816143 | 0.816143 | 0.793103 | {'n_neighbors': 15} |\n",
      "|  3 | PCA_Features   |   0.81746  | 0.806695 | 0.808511 | 0.4795   | 0.469036 |      0.925532 |      0.5      |    0.84466  | 0.84466  | 0.695652 | {'n_neighbors': 11} |\n",
      "|  4 | MFA_Features   |   0.793651 | 0.771913 | 0.780585 | 0.387069 | 0.363636 |      0.93617  |      0.375    |    0.814815 | 0.814815 | 0.666667 | {'n_neighbors': 15} |\n",
      "|  5 | tSNE_Features  |   0.75     | 0.743468 | 0.753865 | 0.309691 | 0.308175 |      0.856383 |      0.4375   |    0.817259 | 0.817259 | 0.509091 | {'n_neighbors': 11} |\n"
     ]
    }
   ],
   "source": [
    "from tabulate import tabulate\n",
    "\n",
    "print(tabulate(knn, headers='keys', tablefmt='pipe'))"
   ]
  },
  {
   "cell_type": "code",
   "execution_count": 10,
   "id": "5a30c228",
   "metadata": {},
   "outputs": [
    {
     "name": "stdout",
     "output_type": "stream",
     "text": [
      "KNN:\n",
      "| Feature_Type   |   accuracy |       F1 |      AUC |      MCC |    Kappa |   Sensitibity |   Specificity |   Precision |      PPV |      NPV | Best_Param          |\n",
      "|:---------------|-----------:|---------:|---------:|---------:|---------:|--------------:|--------------:|------------:|---------:|---------:|:--------------------|\n",
      "| mRMR_Features  |   0.857143 | 0.847523 | 0.881566 | 0.59617  | 0.579689 |      0.957447 |      0.5625   |    0.865385 | 0.865385 | 0.818182 | {'n_neighbors': 5}  |\n",
      "| RFE_Features   |   0.825397 | 0.812103 | 0.814412 | 0.4974   | 0.480315 |      0.941489 |      0.484375 |    0.842857 | 0.842857 | 0.738095 | {'n_neighbors': 1}  |\n",
      "| GA_Features    |   0.813492 | 0.786338 | 0.832447 | 0.446659 | 0.399513 |      0.968085 |      0.359375 |    0.816143 | 0.816143 | 0.793103 | {'n_neighbors': 15} |\n",
      "| PCA_Features   |   0.81746  | 0.806695 | 0.808511 | 0.4795   | 0.469036 |      0.925532 |      0.5      |    0.84466  | 0.84466  | 0.695652 | {'n_neighbors': 11} |\n",
      "| MFA_Features   |   0.793651 | 0.771913 | 0.780585 | 0.387069 | 0.363636 |      0.93617  |      0.375    |    0.814815 | 0.814815 | 0.666667 | {'n_neighbors': 15} |\n",
      "| tSNE_Features  |   0.75     | 0.743468 | 0.753865 | 0.309691 | 0.308175 |      0.856383 |      0.4375   |    0.817259 | 0.817259 | 0.509091 | {'n_neighbors': 11} |\n"
     ]
    }
   ],
   "source": [
    "def print_table_with_title(title, df):\n",
    "    print(title)\n",
    "    print(tabulate(knn, headers='keys', tablefmt='pipe', showindex=False))\n",
    "\n",
    "# Exemple\n",
    "print_table_with_title(\"KNN:\", knn)"
   ]
  }
 ],
 "metadata": {
  "kernelspec": {
   "display_name": "Python 3 (ipykernel)",
   "language": "python",
   "name": "python3"
  },
  "language_info": {
   "codemirror_mode": {
    "name": "ipython",
    "version": 3
   },
   "file_extension": ".py",
   "mimetype": "text/x-python",
   "name": "python",
   "nbconvert_exporter": "python",
   "pygments_lexer": "ipython3",
   "version": "3.9.20"
  }
 },
 "nbformat": 4,
 "nbformat_minor": 5
}
